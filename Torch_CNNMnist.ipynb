{
  "nbformat": 4,
  "nbformat_minor": 0,
  "metadata": {
    "colab": {
      "name": "Torch-CNNMnist.ipynb",
      "provenance": [],
      "authorship_tag": "ABX9TyMqMLti5Tql4tV+IEkGbF3L",
      "include_colab_link": true
    },
    "kernelspec": {
      "name": "python3",
      "display_name": "Python 3"
    },
    "language_info": {
      "name": "python"
    }
  },
  "cells": [
    {
      "cell_type": "markdown",
      "metadata": {
        "id": "view-in-github",
        "colab_type": "text"
      },
      "source": [
        "<a href=\"https://colab.research.google.com/github/lutakrystal305/torch_tutorial/blob/main/Torch_CNNMnist.ipynb\" target=\"_parent\"><img src=\"https://colab.research.google.com/assets/colab-badge.svg\" alt=\"Open In Colab\"/></a>"
      ]
    },
    {
      "cell_type": "code",
      "metadata": {
        "id": "cC6iYgP2io36"
      },
      "source": [
        "import torch\n",
        "import torch.nn as nn\n",
        "import torch.nn.functional as F"
      ],
      "execution_count": null,
      "outputs": []
    },
    {
      "cell_type": "code",
      "metadata": {
        "id": "YX32PSS0j704"
      },
      "source": [
        "class Net(nn.Module):\n",
        "    def __init__(self):\n",
        "        super(Net, self).__init__()\n",
        "        # input 1 channel, output 6 channel, kernel size 3*3\n",
        "        self.conv1 = nn.Conv2d(in_channels=1, out_channels=32, kernel_size=3, padding=1)\n",
        "        self.conv2 = nn.Conv2d(32, 32, 3, 1)\n",
        "\n",
        "        self.fc1 = nn.Linear(13*13*32, 128)\n",
        "        self.fc2 = nn.Linear(128, 10)\n",
        "\n",
        "    def forward(self, x):\n",
        "        x = F.relu(self.conv1(x))\n",
        "        #Max pooling (2,2)\n",
        "        x = F.max_pool2d(F.relu(self.conv2(x)), 2)\n",
        "        #Flatten\n",
        "        x = x.view(-1, self.num_flat_features(x))\n",
        "        x = F.relu(self.fc1(x))\n",
        "        x = self.fc2(x)\n",
        "        return x\n",
        "\n",
        "    def num_flat_features(self, x):\n",
        "        size = x.size()[1:] # all dimensions except the batch dimension\n",
        "        print('Size: ', x.size())\n",
        "        print('size:', size)\n",
        "        num_feature=1\n",
        "        for s in size:\n",
        "            print('s: ', s)\n",
        "            num_feature *= s\n",
        "        print('num_feature: ',num_feature)\n",
        "        return num_feature"
      ],
      "execution_count": null,
      "outputs": []
    },
    {
      "cell_type": "code",
      "metadata": {
        "colab": {
          "base_uri": "https://localhost:8080/"
        },
        "id": "pDmogV0qm9Xs",
        "outputId": "4f05b0ab-b3d4-4360-ca04-0829ddc54d3d"
      },
      "source": [
        "net = Net()\n",
        "print(net)"
      ],
      "execution_count": null,
      "outputs": [
        {
          "output_type": "stream",
          "text": [
            "Net(\n",
            "  (conv1): Conv2d(1, 32, kernel_size=(3, 3), stride=(1, 1), padding=(1, 1))\n",
            "  (conv2): Conv2d(32, 32, kernel_size=(3, 3), stride=(1, 1))\n",
            "  (fc1): Linear(in_features=5408, out_features=128, bias=True)\n",
            "  (fc2): Linear(in_features=128, out_features=10, bias=True)\n",
            ")\n"
          ],
          "name": "stdout"
        }
      ]
    },
    {
      "cell_type": "code",
      "metadata": {
        "id": "kc8WJW_4nIUE"
      },
      "source": [
        "params = list(net.parameters())"
      ],
      "execution_count": null,
      "outputs": []
    },
    {
      "cell_type": "code",
      "metadata": {
        "colab": {
          "base_uri": "https://localhost:8080/"
        },
        "id": "pHywcbCSnOje",
        "outputId": "d39be5fb-9791-41ba-faee-60b9e582e474"
      },
      "source": [
        "params[0].size()"
      ],
      "execution_count": null,
      "outputs": [
        {
          "output_type": "execute_result",
          "data": {
            "text/plain": [
              "torch.Size([32, 1, 3, 3])"
            ]
          },
          "metadata": {
            "tags": []
          },
          "execution_count": 5
        }
      ]
    },
    {
      "cell_type": "code",
      "metadata": {
        "colab": {
          "base_uri": "https://localhost:8080/"
        },
        "id": "ISE0HdIxnVQL",
        "outputId": "dfb06592-7157-4f71-f56b-f529341c6d37"
      },
      "source": [
        "params[1].size()"
      ],
      "execution_count": null,
      "outputs": [
        {
          "output_type": "execute_result",
          "data": {
            "text/plain": [
              "torch.Size([32])"
            ]
          },
          "metadata": {
            "tags": []
          },
          "execution_count": 6
        }
      ]
    },
    {
      "cell_type": "code",
      "metadata": {
        "colab": {
          "base_uri": "https://localhost:8080/"
        },
        "id": "_VfGkfz9nZoi",
        "outputId": "36e672c4-defc-4564-bfb5-2c9039ff2d72"
      },
      "source": [
        "input = torch.randn(1, 1, 28, 28)\n",
        "out_call = net(input)\n",
        "out_forward = net.forward(input)\n",
        "out_call == out_forward"
      ],
      "execution_count": null,
      "outputs": [
        {
          "output_type": "stream",
          "text": [
            "Size:  torch.Size([1, 32, 13, 13])\n",
            "size: torch.Size([32, 13, 13])\n",
            "s:  32\n",
            "s:  13\n",
            "s:  13\n",
            "num_feature:  5408\n",
            "Size:  torch.Size([1, 32, 13, 13])\n",
            "size: torch.Size([32, 13, 13])\n",
            "s:  32\n",
            "s:  13\n",
            "s:  13\n",
            "num_feature:  5408\n"
          ],
          "name": "stdout"
        },
        {
          "output_type": "execute_result",
          "data": {
            "text/plain": [
              "tensor([[True, True, True, True, True, True, True, True, True, True]])"
            ]
          },
          "metadata": {
            "tags": []
          },
          "execution_count": 24
        }
      ]
    },
    {
      "cell_type": "code",
      "metadata": {
        "colab": {
          "base_uri": "https://localhost:8080/"
        },
        "id": "v1bOmGdLn6x3",
        "outputId": "b9c9d810-931b-4efc-d182-e65882b38276"
      },
      "source": [
        "net = Net()\n",
        "def print_info(self, input, output):\n",
        "    # input is a tuple of packed inputs\n",
        "    # output is a Tensor. output.data is the Tensor we are interested\n",
        "    print('Inside ' + self.__class__.__name__ + ' forward')\n",
        "    \n",
        "    print('')\n",
        "    print('input: ', type(input), ', len: ', len(input))\n",
        "    print('input[0]: ', type(input[0]), ', shape: ', input[0].shape)\n",
        "    print('output: ', type(output), ', len: ', len(output), output.data.shape)\n",
        "    \n",
        "\n",
        "net.conv2.register_forward_hook(print_info)\n",
        "\n",
        "out = net(input)\n",
        "print(out)"
      ],
      "execution_count": null,
      "outputs": [
        {
          "output_type": "stream",
          "text": [
            "Inside Conv2d forward\n",
            "\n",
            "input:  <class 'tuple'> , len:  1\n",
            "input[0]:  <class 'torch.Tensor'> , shape:  torch.Size([1, 32, 28, 28])\n",
            "output:  <class 'torch.Tensor'> , len:  1 torch.Size([1, 32, 26, 26])\n",
            "Size:  torch.Size([1, 32, 13, 13])\n",
            "size: torch.Size([32, 13, 13])\n",
            "s:  32\n",
            "s:  13\n",
            "s:  13\n",
            "num_feature:  5408\n",
            "tensor([[-0.0157, -0.1040, -0.1076, -0.0549,  0.2192, -0.0045, -0.0193, -0.0140,\n",
            "         -0.0100,  0.1202]], grad_fn=<AddmmBackward>)\n"
          ],
          "name": "stdout"
        }
      ]
    }
  ]
}