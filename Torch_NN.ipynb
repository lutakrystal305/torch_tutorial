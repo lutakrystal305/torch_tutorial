{
  "nbformat": 4,
  "nbformat_minor": 0,
  "metadata": {
    "colab": {
      "name": "Torch-NN.ipynb",
      "provenance": [],
      "authorship_tag": "ABX9TyMfxt2EBWow2CnsbmNigv7K",
      "include_colab_link": true
    },
    "kernelspec": {
      "name": "python3",
      "display_name": "Python 3"
    },
    "language_info": {
      "name": "python"
    }
  },
  "cells": [
    {
      "cell_type": "markdown",
      "metadata": {
        "id": "view-in-github",
        "colab_type": "text"
      },
      "source": [
        "<a href=\"https://colab.research.google.com/github/lutakrystal305/torch_tutorial/blob/main/Torch_NN.ipynb\" target=\"_parent\"><img src=\"https://colab.research.google.com/assets/colab-badge.svg\" alt=\"Open In Colab\"/></a>"
      ]
    },
    {
      "cell_type": "code",
      "metadata": {
        "colab": {
          "base_uri": "https://localhost:8080/"
        },
        "id": "YAhEXUDDeN6I",
        "outputId": "8866260f-9055-4520-e0df-7993d825449f"
      },
      "source": [
        "!git clone https://github.com/nttuan8/Pytorch_tutorial.git"
      ],
      "execution_count": null,
      "outputs": [
        {
          "output_type": "stream",
          "text": [
            "Cloning into 'Pytorch_tutorial'...\n",
            "remote: Enumerating objects: 38, done.\u001b[K\n",
            "remote: Counting objects: 100% (38/38), done.\u001b[K\n",
            "remote: Compressing objects: 100% (29/29), done.\u001b[K\n",
            "remote: Total 38 (delta 8), reused 29 (delta 5), pack-reused 0\u001b[K\n",
            "Unpacking objects: 100% (38/38), done.\n"
          ],
          "name": "stdout"
        }
      ]
    },
    {
      "cell_type": "code",
      "metadata": {
        "id": "-ztHfpGoehGo"
      },
      "source": [
        "!mv \"/content/Pytorch_tutorial/L2/data_linear.csv\" \"/content/\""
      ],
      "execution_count": null,
      "outputs": []
    },
    {
      "cell_type": "code",
      "metadata": {
        "id": "g_Ptg_RIemP5"
      },
      "source": [
        "import numpy as np\n",
        "import pandas as pd\n",
        "import matplotlib.pyplot as plt\n",
        "import torch\n",
        "import torch.nn as nn\n",
        "import torch.optim as optim"
      ],
      "execution_count": null,
      "outputs": []
    },
    {
      "cell_type": "code",
      "metadata": {
        "id": "lVQn3O_xevIn"
      },
      "source": [
        "data = pd.read_csv('data_linear.csv').values"
      ],
      "execution_count": null,
      "outputs": []
    },
    {
      "cell_type": "code",
      "metadata": {
        "colab": {
          "base_uri": "https://localhost:8080/"
        },
        "id": "2e5_o1CSe-Ld",
        "outputId": "0486f2fe-fea0-4dc3-88e0-e069d6175f87"
      },
      "source": [
        "x = torch.tensor(data[:,0], dtype=torch.float32)\n",
        "y = torch.tensor(data[:,1], dtype=torch.float32)\n",
        "print('shape x: ', x.shape)\n",
        "print('shape y: ', y.shape)\n",
        "x = x.unsqueeze(1)\n",
        "y = y.unsqueeze(1)\n",
        "print(x.shape, y.shape)"
      ],
      "execution_count": null,
      "outputs": [
        {
          "output_type": "stream",
          "text": [
            "shape x:  torch.Size([30])\n",
            "shape y:  torch.Size([30])\n",
            "torch.Size([30, 1]) torch.Size([30, 1])\n"
          ],
          "name": "stdout"
        }
      ]
    },
    {
      "cell_type": "code",
      "metadata": {
        "id": "ii_7TR5if7QY"
      },
      "source": [
        "def training(epochs, optimizer, model, loss_fn, x, y):\n",
        "    losses = []\n",
        "    for epoch in range(1, epochs+1):\n",
        "        y_hat = model(x)\n",
        "        print('shape y^: ', y_hat.shape, '#y shape: ', y.shape)\n",
        "        loss = loss_fn(y_hat, y)\n",
        "        optimizer.zero_grad()\n",
        "        loss.backward()\n",
        "        optimizer.step()\n",
        "        if epoch % 1 == 0:\n",
        "            losses.append(loss.item())\n",
        "            print('Epoch %d, Loss %f' % (epoch, float(loss)))\n",
        "    return losses"
      ],
      "execution_count": null,
      "outputs": []
    },
    {
      "cell_type": "code",
      "metadata": {
        "id": "PzUVyPYcgoz-"
      },
      "source": [
        "linear_model = nn.Linear(1, 1)\n",
        "optimizer = optim.SGD(linear_model.parameters(), lr=0.00004)"
      ],
      "execution_count": null,
      "outputs": []
    },
    {
      "cell_type": "code",
      "metadata": {
        "colab": {
          "base_uri": "https://localhost:8080/"
        },
        "id": "nXBinYA-iCTW",
        "outputId": "01e9452a-6e2f-4b61-91e6-a2a007e75aab"
      },
      "source": [
        "list(linear_model.parameters())"
      ],
      "execution_count": null,
      "outputs": [
        {
          "output_type": "execute_result",
          "data": {
            "text/plain": [
              "[Parameter containing:\n",
              " tensor([[0.3185]], requires_grad=True), Parameter containing:\n",
              " tensor([-0.5500], requires_grad=True)]"
            ]
          },
          "metadata": {
            "tags": []
          },
          "execution_count": 10
        }
      ]
    },
    {
      "cell_type": "code",
      "metadata": {
        "colab": {
          "base_uri": "https://localhost:8080/"
        },
        "id": "3SbV2H_piEds",
        "outputId": "7c101de4-50a4-444e-8009-450fac281ea2"
      },
      "source": [
        "loss= training(10, optimizer, linear_model, nn.MSELoss(), x, y)"
      ],
      "execution_count": null,
      "outputs": [
        {
          "output_type": "stream",
          "text": [
            "shape y^:  torch.Size([30, 1]) #y shape:  torch.Size([30, 1])\n",
            "Epoch 1, Loss 158099.781250\n",
            "shape y^:  torch.Size([30, 1]) #y shape:  torch.Size([30, 1])\n",
            "Epoch 2, Loss 62307.417969\n",
            "shape y^:  torch.Size([30, 1]) #y shape:  torch.Size([30, 1])\n",
            "Epoch 3, Loss 24647.699219\n",
            "shape y^:  torch.Size([30, 1]) #y shape:  torch.Size([30, 1])\n",
            "Epoch 4, Loss 9842.200195\n",
            "shape y^:  torch.Size([30, 1]) #y shape:  torch.Size([30, 1])\n",
            "Epoch 5, Loss 4021.579834\n",
            "shape y^:  torch.Size([30, 1]) #y shape:  torch.Size([30, 1])\n",
            "Epoch 6, Loss 1733.268433\n",
            "shape y^:  torch.Size([30, 1]) #y shape:  torch.Size([30, 1])\n",
            "Epoch 7, Loss 833.647461\n",
            "shape y^:  torch.Size([30, 1]) #y shape:  torch.Size([30, 1])\n",
            "Epoch 8, Loss 479.968170\n",
            "shape y^:  torch.Size([30, 1]) #y shape:  torch.Size([30, 1])\n",
            "Epoch 9, Loss 340.923920\n",
            "shape y^:  torch.Size([30, 1]) #y shape:  torch.Size([30, 1])\n",
            "Epoch 10, Loss 286.260162\n"
          ],
          "name": "stdout"
        }
      ]
    },
    {
      "cell_type": "code",
      "metadata": {
        "colab": {
          "base_uri": "https://localhost:8080/",
          "height": 296
        },
        "id": "vaLvH1bciSxT",
        "outputId": "11e44734-422f-4b62-8ea9-229184ad8cd1"
      },
      "source": [
        "\n",
        "plt.plot(loss)\n",
        "plt.xlabel('epoch')\n",
        "plt.ylabel('loss')"
      ],
      "execution_count": null,
      "outputs": [
        {
          "output_type": "execute_result",
          "data": {
            "text/plain": [
              "Text(0, 0.5, 'loss')"
            ]
          },
          "metadata": {
            "tags": []
          },
          "execution_count": 18
        },
        {
          "output_type": "display_data",
          "data": {
            "image/png": "[encoded data removed]",
            "text/plain": [
              "<Figure size 432x288 with 1 Axes>"
            ]
          },
          "metadata": {
            "tags": [],
            "needs_background": "light"
          }
        }
      ]
    },
    {
      "cell_type": "code",
      "metadata": {
        "colab": {
          "base_uri": "https://localhost:8080/",
          "height": 282
        },
        "id": "H3UDfOWpiWYf",
        "outputId": "7087b207-a44b-4c8c-8c15-1e698a09936f"
      },
      "source": [
        "# chuyển dữ liệu về dạng torch\n",
        "x = torch.tensor(data[:,0], dtype=torch.float32)\n",
        "y = torch.tensor(data[:,1], dtype=torch.float32)\n",
        "x = x.unsqueeze(1)\n",
        "\n",
        "with torch.no_grad():\n",
        "    y_hat = linear_model(x)\n",
        "plt.scatter(x, y)\n",
        "plt.plot(x, y_hat, c='r')"
      ],
      "execution_count": null,
      "outputs": [
        {
          "output_type": "execute_result",
          "data": {
            "text/plain": [
              "[<matplotlib.lines.Line2D at 0x7f44a2a60450>]"
            ]
          },
          "metadata": {
            "tags": []
          },
          "execution_count": 19
        },
        {
          "output_type": "display_data",
          "data": {
            "image/png": "[encoded data removed]",
            "text/plain": [
              "<Figure size 432x288 with 1 Axes>"
            ]
          },
          "metadata": {
            "tags": [],
            "needs_background": "light"
          }
        }
      ]
    }
  ]
}